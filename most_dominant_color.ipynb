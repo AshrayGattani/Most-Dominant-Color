{
  "nbformat": 4,
  "nbformat_minor": 0,
  "metadata": {
    "colab": {
      "name": "most dominant color.ipynb",
      "provenance": [],
      "collapsed_sections": [],
      "authorship_tag": "ABX9TyM4y22tt5m/ypyhsaPwq0K3",
      "include_colab_link": true
    },
    "kernelspec": {
      "name": "python3",
      "display_name": "Python 3"
    },
    "language_info": {
      "name": "python"
    }
  },
  "cells": [
    {
      "cell_type": "markdown",
      "metadata": {
        "id": "view-in-github",
        "colab_type": "text"
      },
      "source": [
        "<a href=\"https://colab.research.google.com/github/AshrayGattani/Most-Dominant-Color/blob/main/most_dominant_color.ipynb\" target=\"_parent\"><img src=\"https://colab.research.google.com/assets/colab-badge.svg\" alt=\"Open In Colab\"/></a>"
      ]
    },
    {
      "cell_type": "code",
      "execution_count": 24,
      "metadata": {
        "id": "mo8GpPdeeyyG"
      },
      "outputs": [],
      "source": [
        "import cv2\n",
        "import numpy as np\n",
        "import matplotlib.pyplot as plt\n",
        "from sklearn.cluster import KMeans\n",
        "import imutils"
      ]
    },
    {
      "cell_type": "code",
      "source": [
        "clusters = 5\n",
        "\n",
        "img = cv2.imread('/content/pexels-picjumbocom-196652.jpg',cv2.IMREAD_UNCHANGED)\n",
        "org_img = img.copy()\n",
        "print('Org image shape --> ',img.shape)"
      ],
      "metadata": {
        "colab": {
          "base_uri": "https://localhost:8080/"
        },
        "id": "fAwmLYkEfGEj",
        "outputId": "e5609348-c018-47bd-841e-4cfe39e6ca82"
      },
      "execution_count": 25,
      "outputs": [
        {
          "output_type": "stream",
          "name": "stdout",
          "text": [
            "Org image shape -->  (2667, 4000, 3)\n"
          ]
        }
      ]
    },
    {
      "cell_type": "code",
      "source": [
        "img = imutils.resize(img,height=200)"
      ],
      "metadata": {
        "id": "nh0l4B56flAU"
      },
      "execution_count": 26,
      "outputs": []
    },
    {
      "cell_type": "code",
      "source": [
        "print('After resizing shape --> ',img.shape)\n"
      ],
      "metadata": {
        "colab": {
          "base_uri": "https://localhost:8080/"
        },
        "id": "JwOHDDJVfo7Y",
        "outputId": "89d4445c-ab7e-4536-eb88-817c35016245"
      },
      "execution_count": 27,
      "outputs": [
        {
          "output_type": "stream",
          "name": "stdout",
          "text": [
            "After resizing shape -->  (200, 299, 3)\n"
          ]
        }
      ]
    },
    {
      "cell_type": "code",
      "source": [
        "flat_img = np.reshape(img,(-1,3))\n",
        "print('After Flattening shape --> ',flat_img.shape)"
      ],
      "metadata": {
        "colab": {
          "base_uri": "https://localhost:8080/"
        },
        "id": "3P1mZh-ZfuAJ",
        "outputId": "2b2c486b-6c26-4df3-868c-1520f030fed8"
      },
      "execution_count": 28,
      "outputs": [
        {
          "output_type": "stream",
          "name": "stdout",
          "text": [
            "After Flattening shape -->  (59800, 3)\n"
          ]
        }
      ]
    },
    {
      "cell_type": "code",
      "source": [
        "kmeans = KMeans(n_clusters=clusters,random_state=0)\n",
        "kmeans.fit(flat_img)"
      ],
      "metadata": {
        "colab": {
          "base_uri": "https://localhost:8080/"
        },
        "id": "nc00hZd6f3te",
        "outputId": "1af11615-8947-4251-bec3-68bae26a8475"
      },
      "execution_count": 29,
      "outputs": [
        {
          "output_type": "execute_result",
          "data": {
            "text/plain": [
              "KMeans(n_clusters=5, random_state=0)"
            ]
          },
          "metadata": {},
          "execution_count": 29
        }
      ]
    },
    {
      "cell_type": "code",
      "source": [
        "dominant_colors = np.array(kmeans.cluster_centers_,dtype='uint')"
      ],
      "metadata": {
        "id": "1u2KNt6Ff92u"
      },
      "execution_count": 30,
      "outputs": []
    },
    {
      "cell_type": "code",
      "source": [
        "percentages = (np.unique(kmeans.labels_,return_counts=True)[1])/flat_img.shape[0]\n",
        "p_and_c = zip(percentages,dominant_colors)\n",
        "p_and_c = sorted(p_and_c,reverse=True)"
      ],
      "metadata": {
        "id": "5KsR9uxzgBYi"
      },
      "execution_count": 31,
      "outputs": []
    },
    {
      "cell_type": "code",
      "source": [
        "block = np.ones((50,50,3),dtype='uint')\n",
        "plt.figure(figsize=(12,8))\n",
        "for i in range(clusters):\n",
        "    plt.subplot(1,clusters,i+1)\n",
        "    block[:] = p_and_c[i][1][::-1] # we have done this to convert bgr(opencv) to rgb(matplotlib) \n",
        "    plt.imshow(block)\n",
        "    plt.xticks([])\n",
        "    plt.yticks([])\n",
        "    plt.xlabel(str(round(p_and_c[i][0]*100,2))+'%')"
      ],
      "metadata": {
        "colab": {
          "base_uri": "https://localhost:8080/",
          "height": 160
        },
        "id": "3WRUnMehgGZG",
        "outputId": "076b70e0-ea6b-4f33-f927-80924d90dfa8"
      },
      "execution_count": 32,
      "outputs": [
        {
          "output_type": "display_data",
          "data": {
            "text/plain": [
              "<Figure size 864x576 with 5 Axes>"
            ],
            "image/png": "[encoded data removed]"
          },
          "metadata": {}
        }
      ]
    },
    {
      "cell_type": "code",
      "source": [
        "bar = np.ones((50,500,3),dtype='uint')\n",
        "plt.figure(figsize=(12,8))\n",
        "plt.title('Proportions of colors in the image')\n",
        "start = 0\n",
        "i = 1\n",
        "for p,c in p_and_c:\n",
        "    end = start+int(p*bar.shape[1])\n",
        "    if i==clusters:\n",
        "        bar[:,start:] = c[::-1]\n",
        "    else:\n",
        "        bar[:,start:end] = c[::-1]\n",
        "    start = end\n",
        "    i+=1\n",
        "\n",
        "plt.imshow(bar)\n",
        "plt.xticks([])\n",
        "plt.yticks([])\n"
      ],
      "metadata": {
        "colab": {
          "base_uri": "https://localhost:8080/",
          "height": 135
        },
        "id": "WfKinCFjgOr7",
        "outputId": "6632d6fc-6127-4ed8-d5aa-13d6d863cc2a"
      },
      "execution_count": 33,
      "outputs": [
        {
          "output_type": "execute_result",
          "data": {
            "text/plain": [
              "([], <a list of 0 Text major ticklabel objects>)"
            ]
          },
          "metadata": {},
          "execution_count": 33
        },
        {
          "output_type": "display_data",
          "data": {
            "text/plain": [
              "<Figure size 864x576 with 1 Axes>"
            ],
            "image/png": "[encoded data removed]"
          },
          "metadata": {}
        }
      ]
    },
    {
      "cell_type": "code",
      "source": [
        "rows = 1000\n",
        "cols = int((org_img.shape[0]/org_img.shape[1])*rows)\n",
        "img = cv2.resize(org_img,dsize=(rows,cols),interpolation=cv2.INTER_LINEAR)\n"
      ],
      "metadata": {
        "id": "Io9QmzzggWdn"
      },
      "execution_count": 34,
      "outputs": []
    },
    {
      "cell_type": "code",
      "source": [
        "copy = img.copy()\n",
        "cv2.rectangle(copy,(rows//2-250,cols//2-90),(rows//2+250,cols//2+110),(255,255,255),-1)\n"
      ],
      "metadata": {
        "colab": {
          "base_uri": "https://localhost:8080/"
        },
        "id": "3RX7386SgaFg",
        "outputId": "6eb5fd71-e77d-4730-b1a1-ef53d05a74b7"
      },
      "execution_count": 35,
      "outputs": [
        {
          "output_type": "execute_result",
          "data": {
            "text/plain": [
              "array([[[ 72,  70,  70],\n",
              "        [ 72,  70,  70],\n",
              "        [ 72,  70,  70],\n",
              "        ...,\n",
              "        [ 77,  75,  73],\n",
              "        [ 84,  85,  74],\n",
              "        [ 98,  98,  80]],\n",
              "\n",
              "       [[ 72,  70,  70],\n",
              "        [ 72,  70,  70],\n",
              "        [ 72,  70,  70],\n",
              "        ...,\n",
              "        [ 81,  79,  74],\n",
              "        [ 96,  92,  77],\n",
              "        [117, 113,  88]],\n",
              "\n",
              "       [[ 72,  70,  70],\n",
              "        [ 72,  70,  70],\n",
              "        [ 72,  70,  70],\n",
              "        ...,\n",
              "        [ 87,  87,  78],\n",
              "        [105, 103,  83],\n",
              "        [120, 115,  85]],\n",
              "\n",
              "       ...,\n",
              "\n",
              "       [[ 69,  69,  69],\n",
              "        [ 69,  69,  69],\n",
              "        [ 69,  69,  69],\n",
              "        ...,\n",
              "        [ 72,  70,  70],\n",
              "        [ 72,  70,  70],\n",
              "        [ 72,  70,  70]],\n",
              "\n",
              "       [[ 69,  69,  69],\n",
              "        [ 69,  69,  69],\n",
              "        [ 69,  69,  69],\n",
              "        ...,\n",
              "        [ 72,  70,  70],\n",
              "        [ 72,  70,  70],\n",
              "        [ 72,  70,  70]],\n",
              "\n",
              "       [[ 70,  70,  70],\n",
              "        [ 70,  70,  70],\n",
              "        [ 70,  70,  70],\n",
              "        ...,\n",
              "        [ 71,  69,  69],\n",
              "        [ 72,  70,  70],\n",
              "        [ 72,  70,  70]]], dtype=uint8)"
            ]
          },
          "metadata": {},
          "execution_count": 35
        }
      ]
    },
    {
      "cell_type": "code",
      "source": [
        "final = cv2.addWeighted(img,0.1,copy,0.9,0)\n",
        "cv2.putText(final,'Most Dominant Colors in the Image',(rows//2-230,cols//2-40),cv2.FONT_HERSHEY_DUPLEX,0.8,(0,0,0),1,cv2.LINE_AA)\n",
        "\n"
      ],
      "metadata": {
        "colab": {
          "base_uri": "https://localhost:8080/"
        },
        "id": "5TMNqoPngeDv",
        "outputId": "81e529c5-2ccd-45e0-df56-bc4bac9a4f2b"
      },
      "execution_count": 36,
      "outputs": [
        {
          "output_type": "execute_result",
          "data": {
            "text/plain": [
              "array([[[ 72,  70,  70],\n",
              "        [ 72,  70,  70],\n",
              "        [ 72,  70,  70],\n",
              "        ...,\n",
              "        [ 77,  75,  73],\n",
              "        [ 84,  85,  74],\n",
              "        [ 98,  98,  80]],\n",
              "\n",
              "       [[ 72,  70,  70],\n",
              "        [ 72,  70,  70],\n",
              "        [ 72,  70,  70],\n",
              "        ...,\n",
              "        [ 81,  79,  74],\n",
              "        [ 96,  92,  77],\n",
              "        [117, 113,  88]],\n",
              "\n",
              "       [[ 72,  70,  70],\n",
              "        [ 72,  70,  70],\n",
              "        [ 72,  70,  70],\n",
              "        ...,\n",
              "        [ 87,  87,  78],\n",
              "        [105, 103,  83],\n",
              "        [120, 115,  85]],\n",
              "\n",
              "       ...,\n",
              "\n",
              "       [[ 69,  69,  69],\n",
              "        [ 69,  69,  69],\n",
              "        [ 69,  69,  69],\n",
              "        ...,\n",
              "        [ 72,  70,  70],\n",
              "        [ 72,  70,  70],\n",
              "        [ 72,  70,  70]],\n",
              "\n",
              "       [[ 69,  69,  69],\n",
              "        [ 69,  69,  69],\n",
              "        [ 69,  69,  69],\n",
              "        ...,\n",
              "        [ 72,  70,  70],\n",
              "        [ 72,  70,  70],\n",
              "        [ 72,  70,  70]],\n",
              "\n",
              "       [[ 70,  70,  70],\n",
              "        [ 70,  70,  70],\n",
              "        [ 70,  70,  70],\n",
              "        ...,\n",
              "        [ 71,  69,  69],\n",
              "        [ 72,  70,  70],\n",
              "        [ 72,  70,  70]]], dtype=uint8)"
            ]
          },
          "metadata": {},
          "execution_count": 36
        }
      ]
    },
    {
      "cell_type": "code",
      "source": [
        "start = rows//2-220\n",
        "for i in range(5):\n",
        "    end = start+70\n",
        "    final[cols//2:cols//2+70,start:end] = p_and_c[i][1]\n",
        "    cv2.putText(final,str(i+1),(start+25,cols//2+45),cv2.FONT_HERSHEY_DUPLEX,1,(255,255,255),1,cv2.LINE_AA)\n",
        "    start = end+20\n",
        "\n",
        "plt.show()\n"
      ],
      "metadata": {
        "id": "6WRv1I4jgjR-"
      },
      "execution_count": 37,
      "outputs": []
    },
    {
      "cell_type": "code",
      "source": [
        "cv2.imwrite('output.png',final)"
      ],
      "metadata": {
        "colab": {
          "base_uri": "https://localhost:8080/"
        },
        "id": "x9lopacLgqNX",
        "outputId": "241d7d40-6a70-43d6-be16-566dab7c15c6"
      },
      "execution_count": 38,
      "outputs": [
        {
          "output_type": "execute_result",
          "data": {
            "text/plain": [
              "True"
            ]
          },
          "metadata": {},
          "execution_count": 38
        }
      ]
    },
    {
      "cell_type": "code",
      "source": [
        "from google.colab import files\n",
        "files.download(\"output.png\") "
      ],
      "metadata": {
        "colab": {
          "base_uri": "https://localhost:8080/",
          "height": 17
        },
        "id": "leLJu1uQh-0L",
        "outputId": "c6ec76e6-520e-4f94-f191-afa555b1952a"
      },
      "execution_count": 39,
      "outputs": [
        {
          "output_type": "display_data",
          "data": {
            "text/plain": [
              "<IPython.core.display.Javascript object>"
            ],
            "application/javascript": [
              "\n",
              "    async function download(id, filename, size) {\n",
              "      if (!google.colab.kernel.accessAllowed) {\n",
              "        return;\n",
              "      }\n",
              "      const div = document.createElement('div');\n",
              "      const label = document.createElement('label');\n",
              "      label.textContent = `Downloading \"${filename}\": `;\n",
              "      div.appendChild(label);\n",
              "      const progress = document.createElement('progress');\n",
              "      progress.max = size;\n",
              "      div.appendChild(progress);\n",
              "      document.body.appendChild(div);\n",
              "\n",
              "      const buffers = [];\n",
              "      let downloaded = 0;\n",
              "\n",
              "      const channel = await google.colab.kernel.comms.open(id);\n",
              "      // Send a message to notify the kernel that we're ready.\n",
              "      channel.send({})\n",
              "\n",
              "      for await (const message of channel.messages) {\n",
              "        // Send a message to notify the kernel that we're ready.\n",
              "        channel.send({})\n",
              "        if (message.buffers) {\n",
              "          for (const buffer of message.buffers) {\n",
              "            buffers.push(buffer);\n",
              "            downloaded += buffer.byteLength;\n",
              "            progress.value = downloaded;\n",
              "          }\n",
              "        }\n",
              "      }\n",
              "      const blob = new Blob(buffers, {type: 'application/binary'});\n",
              "      const a = document.createElement('a');\n",
              "      a.href = window.URL.createObjectURL(blob);\n",
              "      a.download = filename;\n",
              "      div.appendChild(a);\n",
              "      a.click();\n",
              "      div.remove();\n",
              "    }\n",
              "  "
            ]
          },
          "metadata": {}
        },
        {
          "output_type": "display_data",
          "data": {
            "text/plain": [
              "<IPython.core.display.Javascript object>"
            ],
            "application/javascript": [
              "download(\"download_71217d6c-4b1a-4a1f-a966-f66dd5855e1d\", \"output.png\", 985140)"
            ]
          },
          "metadata": {}
        }
      ]
    }
  ]
}